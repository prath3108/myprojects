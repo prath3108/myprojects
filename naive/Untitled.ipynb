{
 "cells": [
  {
   "cell_type": "code",
   "execution_count": 1,
   "id": "ea616b3d",
   "metadata": {},
   "outputs": [
    {
     "name": "stderr",
     "output_type": "stream",
     "text": [
      "[nltk_data] Downloading package stopwords to C:\\Users\\prathyusha\n",
      "[nltk_data]     reddy\\AppData\\Roaming\\nltk_data...\n",
      "[nltk_data]   Unzipping corpora\\stopwords.zip.\n",
      "[nltk_data] Downloading package punkt to C:\\Users\\prathyusha\n",
      "[nltk_data]     reddy\\AppData\\Roaming\\nltk_data...\n",
      "[nltk_data]   Unzipping tokenizers\\punkt.zip.\n"
     ]
    },
    {
     "name": "stdout",
     "output_type": "stream",
     "text": [
      "Accuracy: 90.31%\n"
     ]
    }
   ],
   "source": [
    "# Import necessary libraries\n",
    "import pandas as pd  # for handling data\n",
    "from nltk.tokenize import word_tokenize  # for breaking text into words\n",
    "from nltk.probability import FreqDist  # for calculating word frequencies\n",
    "from nltk.classify import NaiveBayesClassifier  # for building a Naive Bayes classifier\n",
    "from sklearn.model_selection import train_test_split  # for splitting data into training and testing sets\n",
    "from sklearn.metrics import accuracy_score  # for evaluating classifier accuracy\n",
    "from nltk.corpus import stopwords  # for common English words\n",
    "import nltk  # the Natural Language Toolkit library\n",
    "\n",
    "\n",
    "# Download NLTK resources\n",
    "nltk.download('stopwords')\n",
    "nltk.download('punkt')\n",
    "\n",
    "# Load the spam dataset from CSV\n",
    "df = pd.read_csv('spam.csv', encoding='latin-1')\n",
    "# used when the CSV file contains characters that are not encoded in the default encoding\n",
    "\n",
    "# Rename columns for better clarity\n",
    "df = df.rename(columns={'v1': 'label', 'v2': 'message'})\n",
    "\n",
    "# Preprocess the messages\n",
    "stop_words = set(stopwords.words('english'))\n",
    "\n",
    "def preprocess_message(message):\n",
    "    words = word_tokenize(message) #breaks the message  down into individual words\n",
    "    filtered_words = [word.lower() for word in words if word.isalpha() and word.lower() not in stop_words]\n",
    "    # filtered words are words used for analysis therefore checks if the word consists only of\n",
    "    # alphabetic characters (no numbers or special characters), and ensures that the word is not\n",
    "    # in a list of stop words(often excluded from text analysis).\n",
    "    return dict(FreqDist(filtered_words))\n",
    "    #Creates a dictionary containing the frequency distribution of words in the filtered_words\n",
    "\n",
    "# Feature extraction\n",
    "features = [(preprocess_message(message), label) for (label, message) in zip(df['label'], df['message'])]\n",
    "# The zip() function then combines these two columns pairwise.\n",
    "\n",
    "# Split data into training and testing sets\n",
    "train_set, test_set = train_test_split(features, test_size=0.2, random_state=42)\n",
    "\n",
    "# Train the Naive Bayes classifier\n",
    "classifier = NaiveBayesClassifier.train(train_set)\n",
    "\n",
    "# Test the classifier\n",
    "test_features = [feature for (feature, label) in test_set]\n",
    "predictions = classifier.classify_many(test_features)\n",
    "\n",
    "# Evaluate accuracy\n",
    "true_labels = [label for (feature, label) in test_set]\n",
    "accuracy = accuracy_score(true_labels, predictions)\n",
    "\n",
    "print(f\"Accuracy: {accuracy * 100:.2f}%\")\n"
   ]
  },
  {
   "cell_type": "code",
   "execution_count": null,
   "id": "3a3ceaf5",
   "metadata": {},
   "outputs": [],
   "source": []
  }
 ],
 "metadata": {
  "kernelspec": {
   "display_name": "Python 3 (ipykernel)",
   "language": "python",
   "name": "python3"
  },
  "language_info": {
   "codemirror_mode": {
    "name": "ipython",
    "version": 3
   },
   "file_extension": ".py",
   "mimetype": "text/x-python",
   "name": "python",
   "nbconvert_exporter": "python",
   "pygments_lexer": "ipython3",
   "version": "3.10.9"
  }
 },
 "nbformat": 4,
 "nbformat_minor": 5
}
